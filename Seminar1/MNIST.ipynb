{
 "cells": [
  {
   "cell_type": "code",
   "execution_count": 2,
   "metadata": {},
   "outputs": [],
   "source": [
    "import numpy as np\n",
    "from keras.datasets import mnist \n",
    "from keras import Model\n",
    "from keras.layers import Input, Dense\n",
    "from keras.optimizers import SGD, Adam\n",
    "\n",
    "import keras\n",
    "\n",
    "import matplotlib.pyplot as plt\n",
    "%matplotlib inline"
   ]
  },
  {
   "cell_type": "markdown",
   "metadata": {},
   "source": [
    "## Loading data"
   ]
  },
  {
   "cell_type": "code",
   "execution_count": 3,
   "metadata": {},
   "outputs": [],
   "source": [
    "(x_train, y_train), (x_test, y_test) = mnist.load_data()"
   ]
  },
  {
   "cell_type": "code",
   "execution_count": 4,
   "metadata": {},
   "outputs": [
    {
     "name": "stdout",
     "output_type": "stream",
     "text": [
      "60000 train samples\n",
      "10000 test samples\n"
     ]
    }
   ],
   "source": [
    "x_train = x_train.reshape(60000, 784)\n",
    "x_test = x_test.reshape(10000, 784)\n",
    "x_train = x_train.astype('float32')\n",
    "x_test = x_test.astype('float32')\n",
    "x_train /= 255\n",
    "x_test /= 255\n",
    "print(x_train.shape[0], 'train samples')\n",
    "print(x_test.shape[0], 'test samples')"
   ]
  },
  {
   "cell_type": "code",
   "execution_count": 5,
   "metadata": {},
   "outputs": [],
   "source": [
    "batch_size = 128\n",
    "num_classes = 10\n",
    "epochs = 20"
   ]
  },
  {
   "cell_type": "code",
   "execution_count": 6,
   "metadata": {},
   "outputs": [],
   "source": [
    "y_train = keras.utils.to_categorical(y_train, num_classes)\n",
    "y_test = keras.utils.to_categorical(y_test, num_classes)"
   ]
  },
  {
   "cell_type": "markdown",
   "metadata": {},
   "source": [
    "## Visualization"
   ]
  },
  {
   "cell_type": "code",
   "execution_count": 7,
   "metadata": {},
   "outputs": [
    {
     "data": {
      "image/png": "[encoded data removed]",
      "text/plain": [
       "<matplotlib.figure.Figure at 0x289aad13a90>"
      ]
     },
     "metadata": {},
     "output_type": "display_data"
    }
   ],
   "source": [
    "f, axs = plt.subplots(2,5, figsize=(10, 5))\n",
    "\n",
    "for i, ax in enumerate(axs.ravel()):\n",
    "    ind = np.argmax(y_train[:, i]==1)\n",
    "    img = x_train[ind].reshape((28, 28))\n",
    "    ax.imshow(img, cmap='gray')\n",
    "    ax.set_title(i)\n",
    "\n",
    "f.tight_layout()"
   ]
  },
  {
   "cell_type": "markdown",
   "metadata": {},
   "source": [
    "## Keras guide"
   ]
  },
  {
   "cell_type": "markdown",
   "metadata": {},
   "source": [
    "Let's recap logistic regression model\n",
    "\n",
    "<img src=\"logreg_scheme.jpg\">\n",
    "\n",
    "We define input layers using ``Input`` from Keras. Only thing we need is to specify size of our images\n",
    "```python\n",
    "inputs = Input(shape=784)\n",
    "```\n",
    "\n",
    "Next we define our output layer using ``Dense``. We neeed to specify that we want sigmoid activation and pass previously created ``Input`` as inputs\n",
    "\n",
    "```python\n",
    "outputs = Dense(num_classes, activation='sigmoid')(inputs)\n",
    "```\n",
    "\n",
    "The rest is to define ``Model`` that consolidates inputs and outputs \n",
    "```python\n",
    "model = Model(inputs=inputs, outputs=outputs)\n",
    "```\n",
    "and compile it, specifing desired loss function, optimizer algorithm (we will use Adam) and metrics that will be evaluated and printed\n",
    "\n",
    "```python\n",
    "model.compile(loss='categorical_crossentropy', optimizer=Adam(lr=0.01), metrics=['accuracy'])\n",
    "```\n",
    "\n",
    "Now we built our model and ready to fit it using ``fit`` function. \n",
    "```python\n",
    "model.fit(x_train, y_train, validation_data=(x_test, y_test), \n",
    "          epochs=epochs, batch_size=batch_size)\n",
    "```"
   ]
  },
  {
   "cell_type": "markdown",
   "metadata": {},
   "source": [
    "## Logreg model"
   ]
  },
  {
   "cell_type": "code",
   "execution_count": 10,
   "metadata": {
    "scrolled": true
   },
   "outputs": [
    {
     "name": "stdout",
     "output_type": "stream",
     "text": [
      "Train on 60000 samples, validate on 10000 samples\n",
      "Epoch 1/20\n",
      "60000/60000 [==============================] - 6s 94us/step - loss: 0.3753 - acc: 0.8932 - val_loss: 0.2900 - val_acc: 0.9192\n",
      "Epoch 2/20\n",
      "60000/60000 [==============================] - 3s 49us/step - loss: 0.2944 - acc: 0.9176 - val_loss: 0.2947 - val_acc: 0.9186\n",
      "Epoch 3/20\n",
      "60000/60000 [==============================] - 3s 43us/step - loss: 0.2833 - acc: 0.9210 - val_loss: 0.2932 - val_acc: 0.9192\n",
      "Epoch 4/20\n",
      "60000/60000 [==============================] - 2s 41us/step - loss: 0.2763 - acc: 0.9239 - val_loss: 0.2834 - val_acc: 0.9230\n",
      "Epoch 5/20\n",
      "60000/60000 [==============================] - 2s 40us/step - loss: 0.2755 - acc: 0.9240 - val_loss: 0.2936 - val_acc: 0.9212\n",
      "Epoch 6/20\n",
      "60000/60000 [==============================] - 2s 40us/step - loss: 0.2688 - acc: 0.9249 - val_loss: 0.2933 - val_acc: 0.9244\n",
      "Epoch 7/20\n",
      "60000/60000 [==============================] - 2s 40us/step - loss: 0.2696 - acc: 0.9261 - val_loss: 0.3051 - val_acc: 0.9193\n",
      "Epoch 8/20\n",
      "60000/60000 [==============================] - 2s 40us/step - loss: 0.2632 - acc: 0.9281 - val_loss: 0.3066 - val_acc: 0.9169\n",
      "Epoch 9/20\n",
      "60000/60000 [==============================] - 2s 41us/step - loss: 0.2622 - acc: 0.9270 - val_loss: 0.2998 - val_acc: 0.9229\n",
      "Epoch 10/20\n",
      "60000/60000 [==============================] - 2s 40us/step - loss: 0.2630 - acc: 0.9263 - val_loss: 0.3230 - val_acc: 0.9178\n",
      "Epoch 11/20\n",
      "60000/60000 [==============================] - 2s 40us/step - loss: 0.2606 - acc: 0.9273 - val_loss: 0.3038 - val_acc: 0.9213\n",
      "Epoch 12/20\n",
      "60000/60000 [==============================] - 2s 40us/step - loss: 0.2584 - acc: 0.9273 - val_loss: 0.3132 - val_acc: 0.9187\n",
      "Epoch 13/20\n",
      "60000/60000 [==============================] - 2s 40us/step - loss: 0.2582 - acc: 0.9283 - val_loss: 0.3113 - val_acc: 0.9192\n",
      "Epoch 14/20\n",
      "60000/60000 [==============================] - 2s 41us/step - loss: 0.2544 - acc: 0.9288 - val_loss: 0.3127 - val_acc: 0.9223\n",
      "Epoch 15/20\n",
      "60000/60000 [==============================] - 2s 39us/step - loss: 0.2546 - acc: 0.9285 - val_loss: 0.3063 - val_acc: 0.9224\n",
      "Epoch 16/20\n",
      "60000/60000 [==============================] - 2s 40us/step - loss: 0.2559 - acc: 0.9277 - val_loss: 0.3133 - val_acc: 0.9194\n",
      "Epoch 17/20\n",
      "60000/60000 [==============================] - 2s 41us/step - loss: 0.2550 - acc: 0.9288 - val_loss: 0.3079 - val_acc: 0.9218\n",
      "Epoch 18/20\n",
      "60000/60000 [==============================] - 2s 41us/step - loss: 0.2537 - acc: 0.9278 - val_loss: 0.3056 - val_acc: 0.9232\n",
      "Epoch 19/20\n",
      "60000/60000 [==============================] - 2s 41us/step - loss: 0.2517 - acc: 0.9285 - val_loss: 0.3183 - val_acc: 0.9188\n",
      "Epoch 20/20\n",
      "60000/60000 [==============================] - 2s 41us/step - loss: 0.2504 - acc: 0.9288 - val_loss: 0.3112 - val_acc: 0.9207\n"
     ]
    },
    {
     "data": {
      "text/plain": [
       "<keras.callbacks.History at 0x289ad69efd0>"
      ]
     },
     "execution_count": 10,
     "metadata": {},
     "output_type": "execute_result"
    }
   ],
   "source": [
    "inputs = Input(shape=(784,))\n",
    "outputs = Dense(num_classes, activation='softmax')(inputs)\n",
    "\n",
    "model = Model(inputs=inputs, outputs=outputs)\n",
    "model.compile(loss='categorical_crossentropy', optimizer=Adam(lr=0.01), metrics=['accuracy'])\n",
    "model.fit(x_train, y_train, validation_data=(x_test, y_test), \n",
    "          epochs=epochs, batch_size=batch_size)"
   ]
  },
  {
   "cell_type": "markdown",
   "metadata": {},
   "source": [
    "## Multiple layers model"
   ]
  },
  {
   "cell_type": "code",
   "execution_count": 13,
   "metadata": {},
   "outputs": [
    {
     "name": "stdout",
     "output_type": "stream",
     "text": [
      "Train on 60000 samples, validate on 10000 samples\n",
      "Epoch 1/20\n",
      "60000/60000 [==============================] - 4s 71us/step - loss: 0.2459 - acc: 0.9280 - val_loss: 0.1446 - val_acc: 0.9586\n",
      "Epoch 2/20\n",
      "60000/60000 [==============================] - 3s 54us/step - loss: 0.1169 - acc: 0.9645 - val_loss: 0.1320 - val_acc: 0.9620\n",
      "Epoch 3/20\n",
      "60000/60000 [==============================] - 3s 55us/step - loss: 0.0922 - acc: 0.9720 - val_loss: 0.1148 - val_acc: 0.9664\n",
      "Epoch 4/20\n",
      "60000/60000 [==============================] - 4s 61us/step - loss: 0.0795 - acc: 0.9759 - val_loss: 0.1242 - val_acc: 0.9628\n",
      "Epoch 5/20\n",
      "60000/60000 [==============================] - 4s 60us/step - loss: 0.0722 - acc: 0.9785 - val_loss: 0.1089 - val_acc: 0.9719\n",
      "Epoch 6/20\n",
      "60000/60000 [==============================] - 3s 57us/step - loss: 0.0668 - acc: 0.9803 - val_loss: 0.1145 - val_acc: 0.9745\n",
      "Epoch 7/20\n",
      "60000/60000 [==============================] - 3s 57us/step - loss: 0.0610 - acc: 0.9819 - val_loss: 0.1582 - val_acc: 0.9674\n",
      "Epoch 8/20\n",
      "60000/60000 [==============================] - 3s 53us/step - loss: 0.0581 - acc: 0.9829 - val_loss: 0.1278 - val_acc: 0.9722\n",
      "Epoch 9/20\n",
      "60000/60000 [==============================] - 3s 53us/step - loss: 0.0525 - acc: 0.9847 - val_loss: 0.1459 - val_acc: 0.9727\n",
      "Epoch 10/20\n",
      "60000/60000 [==============================] - 3s 54us/step - loss: 0.0555 - acc: 0.9847 - val_loss: 0.1984 - val_acc: 0.9641\n",
      "Epoch 11/20\n",
      "60000/60000 [==============================] - 3s 55us/step - loss: 0.0544 - acc: 0.9846 - val_loss: 0.1769 - val_acc: 0.9700\n",
      "Epoch 12/20\n",
      "60000/60000 [==============================] - 3s 55us/step - loss: 0.0487 - acc: 0.9866 - val_loss: 0.1563 - val_acc: 0.9729\n",
      "Epoch 13/20\n",
      "60000/60000 [==============================] - 4s 63us/step - loss: 0.0552 - acc: 0.9861 - val_loss: 0.1547 - val_acc: 0.9753\n",
      "Epoch 14/20\n",
      "60000/60000 [==============================] - 3s 54us/step - loss: 0.0460 - acc: 0.9880 - val_loss: 0.1785 - val_acc: 0.9733\n",
      "Epoch 15/20\n",
      "60000/60000 [==============================] - 3s 54us/step - loss: 0.0493 - acc: 0.9878 - val_loss: 0.1748 - val_acc: 0.9730\n",
      "Epoch 16/20\n",
      "60000/60000 [==============================] - 3s 53us/step - loss: 0.0396 - acc: 0.9895 - val_loss: 0.1823 - val_acc: 0.9731\n",
      "Epoch 17/20\n",
      "60000/60000 [==============================] - 3s 56us/step - loss: 0.0406 - acc: 0.9894 - val_loss: 0.1879 - val_acc: 0.9754\n",
      "Epoch 18/20\n",
      "60000/60000 [==============================] - 4s 59us/step - loss: 0.0456 - acc: 0.9892 - val_loss: 0.1825 - val_acc: 0.9734\n",
      "Epoch 19/20\n",
      "60000/60000 [==============================] - 3s 51us/step - loss: 0.0442 - acc: 0.9891 - val_loss: 0.1787 - val_acc: 0.9755\n",
      "Epoch 20/20\n",
      "60000/60000 [==============================] - 3s 55us/step - loss: 0.0444 - acc: 0.9899 - val_loss: 0.1839 - val_acc: 0.9769\n"
     ]
    },
    {
     "data": {
      "text/plain": [
       "<keras.callbacks.History at 0x289fb6d9f98>"
      ]
     },
     "execution_count": 13,
     "metadata": {},
     "output_type": "execute_result"
    }
   ],
   "source": [
    "inputs = Input(shape=(784,))\n",
    "hidden = Dense(100, activation='relu')(inputs)\n",
    "outputs = Dense(num_classes, activation='softmax')(hidden)\n",
    "\n",
    "model = Model(inputs=inputs, outputs=outputs)\n",
    "model.compile(loss='categorical_crossentropy', optimizer=Adam(lr=0.01), metrics=['accuracy'])\n",
    "model.fit(x_train, y_train, validation_data=(x_test, y_test), \n",
    "          epochs=epochs, batch_size=batch_size)"
   ]
  },
  {
   "cell_type": "code",
   "execution_count": null,
   "metadata": {},
   "outputs": [],
   "source": []
  }
 ],
 "metadata": {
  "kernelspec": {
   "display_name": "Python 3",
   "language": "python",
   "name": "python3"
  },
  "language_info": {
   "codemirror_mode": {
    "name": "ipython",
    "version": 3
   },
   "file_extension": ".py",
   "mimetype": "text/x-python",
   "name": "python",
   "nbconvert_exporter": "python",
   "pygments_lexer": "ipython3",
   "version": "3.5.2"
  }
 },
 "nbformat": 4,
 "nbformat_minor": 2
}
