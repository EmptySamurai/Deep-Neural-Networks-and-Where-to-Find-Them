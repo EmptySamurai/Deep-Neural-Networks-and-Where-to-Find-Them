{
 "cells": [
  {
   "cell_type": "code",
   "execution_count": 1,
   "metadata": {
    "collapsed": false
   },
   "outputs": [
    {
     "name": "stderr",
     "output_type": "stream",
     "text": [
      "Using TensorFlow backend.\n"
     ]
    }
   ],
   "source": [
    "import pandas as pd\n",
    "from keras.utils import to_categorical\n",
    "\n",
    "import numpy as np\n",
    "import matplotlib.pyplot as plt\n",
    "%matplotlib inline\n",
    "\n",
    "from pylab import rcParams \n",
    "rcParams['figure.figsize'] = 20, 10 \n",
    "rcParams['font.size'] = 16\n",
    "\n",
    "from keras.layers import *\n",
    "from keras.models import Model\n",
    "from keras.optimizers import Adam"
   ]
  },
  {
   "cell_type": "code",
   "execution_count": 2,
   "metadata": {
    "collapsed": false
   },
   "outputs": [],
   "source": [
    "def prepare_dataset(df, categorical_as_onehot=True):\n",
    "    df = df.fillna(-1)\n",
    "    for column in df.columns:\n",
    "        df = getObjectFeature(df, column, categorical_as_onehot=categorical_as_onehot)\n",
    "        \n",
    "    X = df.drop(['Id', 'SalePrice'], axis=1).as_matrix().astype('float')\n",
    "    y = df['SalePrice'].as_matrix().astype('float')\n",
    "    return np.nan_to_num(X), np.nan_to_num(y), df['Id'].as_matrix()\n",
    "\n",
    "   \n",
    "def getObjectFeature(df, col, categorical_as_onehot=True):\n",
    "    if df[col].dtype != 'object': # if it's not categorical do nothing\n",
    "        df['{}_sqrt'.format(col)] = df[col].pow(.5)\n",
    "        \n",
    "        return df\n",
    "    else:\n",
    "        if categorical_as_onehot:\n",
    "            df1 = df\n",
    "            counts = df1[col].value_counts()\n",
    "\n",
    "            one_hot = to_categorical([counts.index.tolist().index(i) for i in df1[col]])\n",
    "\n",
    "            df1 = df1.drop([col], axis=1)\n",
    "            for i in range(one_hot.shape[1]):\n",
    "                df1['{}_{}'.format(col, i)] = one_hot[:, i]\n",
    "            return df1\n",
    "        else:\n",
    "            df1 = df\n",
    "            counts = df1[col].value_counts()\n",
    "            df1[col] = [counts.index.tolist().index(i) for i in df1[col]]\n",
    "            return df1"
   ]
  },
  {
   "cell_type": "code",
   "execution_count": 3,
   "metadata": {
    "collapsed": false
   },
   "outputs": [],
   "source": [
    "df_train = pd.read_csv('data/train.csv')\n",
    "df_test = pd.read_csv('data/test.csv')\n",
    "\n",
    "X, y, ids = prepare_dataset(pd.concat([df_train, df_test]), categorical_as_onehot=True)\n",
    "\n",
    "X_train = X[y != -1]\n",
    "y_train = y[y != -1]\n",
    "\n",
    "X_test = X[y == -1]\n",
    "ids_test = ids[y == -1]"
   ]
  },
  {
   "cell_type": "code",
   "execution_count": 4,
   "metadata": {
    "collapsed": false
   },
   "outputs": [
    {
     "data": {
      "text/plain": [
       "(1460, 349)"
      ]
     },
     "execution_count": 4,
     "metadata": {},
     "output_type": "execute_result"
    }
   ],
   "source": [
    "X_train.shape"
   ]
  },
  {
   "cell_type": "code",
   "execution_count": 5,
   "metadata": {
    "collapsed": false
   },
   "outputs": [
    {
     "data": {
      "text/plain": [
       "(1460,)"
      ]
     },
     "execution_count": 5,
     "metadata": {},
     "output_type": "execute_result"
    }
   ],
   "source": [
    "y_train.shape"
   ]
  },
  {
   "cell_type": "code",
   "execution_count": 6,
   "metadata": {
    "collapsed": false,
    "scrolled": true
   },
   "outputs": [
    {
     "name": "stdout",
     "output_type": "stream",
     "text": [
      "Train on 1314 samples, validate on 146 samples\n",
      "Epoch 1/40\n",
      "1314/1314 [==============================] - 0s 308us/step - loss: 149824.1924 - val_loss: 111699.6358\n",
      "Epoch 2/40\n",
      "1314/1314 [==============================] - 0s 78us/step - loss: 89276.3536 - val_loss: 59657.2040\n",
      "Epoch 3/40\n",
      "1314/1314 [==============================] - 0s 78us/step - loss: 52321.9871 - val_loss: 42594.2623\n",
      "Epoch 4/40\n",
      "1314/1314 [==============================] - 0s 91us/step - loss: 46262.2433 - val_loss: 40828.9300\n",
      "Epoch 5/40\n",
      "1314/1314 [==============================] - 0s 77us/step - loss: 44988.0332 - val_loss: 39938.1266\n",
      "Epoch 6/40\n",
      "1314/1314 [==============================] - 0s 75us/step - loss: 43870.6027 - val_loss: 39015.4930\n",
      "Epoch 7/40\n",
      "1314/1314 [==============================] - 0s 75us/step - loss: 42722.1076 - val_loss: 38241.7820\n",
      "Epoch 8/40\n",
      "1314/1314 [==============================] - 0s 74us/step - loss: 41646.3327 - val_loss: 37426.0462\n",
      "Epoch 9/40\n",
      "1314/1314 [==============================] - 0s 74us/step - loss: 40567.7171 - val_loss: 36640.2999\n",
      "Epoch 10/40\n",
      "1314/1314 [==============================] - 0s 77us/step - loss: 39576.8413 - val_loss: 35898.4797\n",
      "Epoch 11/40\n",
      "1314/1314 [==============================] - 0s 88us/step - loss: 38621.1176 - val_loss: 35109.4346\n",
      "Epoch 12/40\n",
      "1314/1314 [==============================] - 0s 94us/step - loss: 37662.6636 - val_loss: 34351.0867\n",
      "Epoch 13/40\n",
      "1314/1314 [==============================] - 0s 85us/step - loss: 36691.2329 - val_loss: 33661.8271\n",
      "Epoch 14/40\n",
      "1314/1314 [==============================] - 0s 81us/step - loss: 35809.1359 - val_loss: 33026.1138\n",
      "Epoch 15/40\n",
      "1314/1314 [==============================] - 0s 93us/step - loss: 35002.7877 - val_loss: 32376.0647\n",
      "Epoch 16/40\n",
      "1314/1314 [==============================] - 0s 121us/step - loss: 34271.0699 - val_loss: 31793.4415\n",
      "Epoch 17/40\n",
      "1314/1314 [==============================] - 0s 107us/step - loss: 33627.2652 - val_loss: 31374.7947\n",
      "Epoch 18/40\n",
      "1314/1314 [==============================] - 0s 73us/step - loss: 33106.2513 - val_loss: 30816.4273\n",
      "Epoch 19/40\n",
      "1314/1314 [==============================] - 0s 78us/step - loss: 32521.0083 - val_loss: 30232.6514\n",
      "Epoch 20/40\n",
      "1314/1314 [==============================] - 0s 86us/step - loss: 32020.6595 - val_loss: 29743.3815\n",
      "Epoch 21/40\n",
      "1314/1314 [==============================] - 0s 99us/step - loss: 31517.1473 - val_loss: 30278.4944\n",
      "Epoch 22/40\n",
      "1314/1314 [==============================] - 0s 120us/step - loss: 31150.3690 - val_loss: 29244.1988\n",
      "Epoch 23/40\n",
      "1314/1314 [==============================] - 0s 107us/step - loss: 30746.5928 - val_loss: 28994.0737\n",
      "Epoch 24/40\n",
      "1314/1314 [==============================] - 0s 89us/step - loss: 30335.6138 - val_loss: 28478.4544\n",
      "Epoch 25/40\n",
      "1314/1314 [==============================] - 0s 120us/step - loss: 30039.8419 - val_loss: 28365.7007\n",
      "Epoch 26/40\n",
      "1314/1314 [==============================] - 0s 114us/step - loss: 29759.5683 - val_loss: 27779.3302\n",
      "Epoch 27/40\n",
      "1314/1314 [==============================] - 0s 86us/step - loss: 29384.4629 - val_loss: 28451.5576\n",
      "Epoch 28/40\n",
      "1314/1314 [==============================] - 0s 100us/step - loss: 29101.0038 - val_loss: 27587.1170\n",
      "Epoch 29/40\n",
      "1314/1314 [==============================] - 0s 94us/step - loss: 28858.5480 - val_loss: 27511.4703\n",
      "Epoch 30/40\n",
      "1314/1314 [==============================] - 0s 95us/step - loss: 28612.7655 - val_loss: 27256.0711\n",
      "Epoch 31/40\n",
      "1314/1314 [==============================] - 0s 95us/step - loss: 28402.4598 - val_loss: 26904.5923\n",
      "Epoch 32/40\n",
      "1314/1314 [==============================] - 0s 97us/step - loss: 28181.0044 - val_loss: 26569.9094\n",
      "Epoch 33/40\n",
      "1314/1314 [==============================] - 0s 97us/step - loss: 27975.8281 - val_loss: 26393.6188\n",
      "Epoch 34/40\n",
      "1314/1314 [==============================] - 0s 93us/step - loss: 27949.6295 - val_loss: 26055.0386\n",
      "Epoch 35/40\n",
      "1314/1314 [==============================] - 0s 103us/step - loss: 27644.7931 - val_loss: 26700.8375\n",
      "Epoch 36/40\n",
      "1314/1314 [==============================] - 0s 92us/step - loss: 27541.3083 - val_loss: 26318.7571\n",
      "Epoch 37/40\n",
      "1314/1314 [==============================] - 0s 118us/step - loss: 27377.0831 - val_loss: 26618.9149\n",
      "Epoch 38/40\n",
      "1314/1314 [==============================] - 0s 79us/step - loss: 27317.3318 - val_loss: 25647.6377\n",
      "Epoch 39/40\n",
      "1314/1314 [==============================] - 0s 85us/step - loss: 27224.7676 - val_loss: 26055.1357\n",
      "Epoch 40/40\n",
      "1314/1314 [==============================] - 0s 102us/step - loss: 27112.3153 - val_loss: 25832.0748\n"
     ]
    },
    {
     "data": {
      "text/plain": [
       "<keras.callbacks.History at 0x3019b8eb8>"
      ]
     },
     "execution_count": 6,
     "metadata": {},
     "output_type": "execute_result"
    }
   ],
   "source": [
    "input = Input(shape=(X_train.shape[1],))\n",
    "output = Dense(1)(input)\n",
    "\n",
    "model = Model(inputs=input, outputs=output)\n",
    "\n",
    "def root_mean_squared_error(y_true, y_pred):\n",
    "        return K.sqrt(K.mean(K.square(y_pred - y_true), axis=-1)) \n",
    "\n",
    "model.compile(loss=root_mean_squared_error, optimizer=Adam(lr=0.04))\n",
    "model.fit(X_train, y_train, epochs=40, batch_size=20, validation_split=0.1)"
   ]
  },
  {
   "cell_type": "code",
   "execution_count": 7,
   "metadata": {
    "collapsed": false
   },
   "outputs": [],
   "source": [
    "y_pred = model.predict(X_test)"
   ]
  },
  {
   "cell_type": "code",
   "execution_count": 8,
   "metadata": {
    "collapsed": false
   },
   "outputs": [
    {
     "data": {
      "text/plain": [
       "array([[132396.31 ],\n",
       "       [127924.76 ],\n",
       "       [180732.92 ],\n",
       "       ...,\n",
       "       [181634.39 ],\n",
       "       [ 96559.625],\n",
       "       [212327.98 ]], dtype=float32)"
      ]
     },
     "execution_count": 8,
     "metadata": {},
     "output_type": "execute_result"
    }
   ],
   "source": [
    "y_pred"
   ]
  },
  {
   "cell_type": "code",
   "execution_count": 9,
   "metadata": {
    "collapsed": false
   },
   "outputs": [],
   "source": [
    "pd.DataFrame(data={'Id': ids_test, 'SalePrice': np.squeeze(y_pred)}).to_csv('data/submission.csv', index=False)"
   ]
  }
 ],
 "metadata": {
  "kernelspec": {
   "display_name": "Python 3",
   "language": "python",
   "name": "python3"
  },
  "language_info": {
   "codemirror_mode": {
    "name": "ipython",
    "version": 3
   },
   "file_extension": ".py",
   "mimetype": "text/x-python",
   "name": "python",
   "nbconvert_exporter": "python",
   "pygments_lexer": "ipython3",
   "version": "3.5.2"
  }
 },
 "nbformat": 4,
 "nbformat_minor": 0
}
